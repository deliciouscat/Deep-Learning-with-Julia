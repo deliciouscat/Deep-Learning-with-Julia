{
 "cells": [
  {
   "cell_type": "raw",
   "metadata": {},
   "source": [
    "상수시간 연산 : O(1)\n",
    "나눗셈 > 곱셈 > 덧셈,뺄셈\n",
    "숫자 크기와는 상관이 없으나, 매우 큰 정수면 (자릿수에 따라) 증가한다.\n",
    "인덱스 연산 또한 상수시간 연산"
   ]
  },
  {
   "cell_type": "code",
   "execution_count": 1,
   "metadata": {},
   "outputs": [
    {
     "name": "stdout",
     "output_type": "stream",
     "text": [
      "45\n"
     ]
    }
   ],
   "source": [
    "# for문을 거치면 O(1)의 지수에 1이 더해진다.\n",
    "# O( n^(0+1) ) = O(n)\n",
    "\n",
    "t=[1,2,3,4,5,6,7,8,9]\n",
    "total = 0\n",
    "for x in t\n",
    "    total+=x\n",
    "end\n",
    "println(total)\n",
    "# O(n^x)인 연산을 루프 돌리면 O( n^(x+1) )"
   ]
  },
  {
   "cell_type": "raw",
   "metadata": {},
   "source": [
    "정렬 : n log n\n",
    "copy : 원소 갯수에 비례(크기에 비례하지 x)\n",
    "딕셔너리 : key,val,items는 선형(새로운 리스트를 반환하기 때문에)\n",
    "           iterkey,iterval,iteritems는 상수시간(근데 반복자 루프는 선형)\n",
    "\n",
    "최악시간복잡도 : 가장 오래걸리는 경우를 고려한다. 가장 대중적으로 사용되는 지표.\n",
    "평균시간복잡도 : 최악시간복잡도가 드물게 발생할시 고려한다.\n",
    "할부시간복잡도 : 각 입력이 비슷한 빈도로 발생한다는 가정 하에 계산한 복잡도."
   ]
  },
  {
   "cell_type": "code",
   "execution_count": 1,
   "metadata": {},
   "outputs": [
    {
     "data": {
      "text/plain": [
       "21"
      ]
     },
     "execution_count": 1,
     "metadata": {},
     "output_type": "execute_result"
    }
   ],
   "source": [
    "dat = [12,2,20,9,3,100,11,4,17,18,6,1,8,16,7,15,5,10,14,19,13]\n",
    "length(dat)"
   ]
  },
  {
   "cell_type": "code",
   "execution_count": 3,
   "metadata": {},
   "outputs": [
    {
     "data": {
      "text/plain": [
       "bubbleSort (generic function with 1 method)"
      ]
     },
     "execution_count": 3,
     "metadata": {},
     "output_type": "execute_result"
    }
   ],
   "source": [
    "# 버블정렬 O(n²)\n",
    "# 정렬이 이미 잘 되어있으면 O(n)이기 때문에 정렬여부 파악용\n",
    "function swap(x,i,j)\n",
    "    x[i],x[j]=x[j],x[i]\n",
    "end\n",
    "\n",
    "function bubbleSort(x)\n",
    "    newx=copy(x)\n",
    "    for size in reverse(1:length(x))\n",
    "        for i in 1:size-1\n",
    "            if newx[i] > newx[i+1]\n",
    "                swap(newx,i,i+1)\n",
    "            end\n",
    "        end\n",
    "    end\n",
    "    return newx\n",
    "end"
   ]
  },
  {
   "cell_type": "code",
   "execution_count": 4,
   "metadata": {},
   "outputs": [
    {
     "name": "stdout",
     "output_type": "stream",
     "text": [
      "[12, 2, 20, 9, 3, 100, 11, 4, 17, 18, 6, 1, 8, 16, 7, 15, 5, 10, 14, 19, 13]\n",
      "[1, 2, 3, 4, 5, 6, 7, 8, 9, 10, 11, 12, 13, 14, 15, 16, 17, 18, 19, 20, 100]"
     ]
    }
   ],
   "source": [
    "newdat=bubbleSort(dat)\n",
    "println(dat)\n",
    "print(newdat)"
   ]
  },
  {
   "cell_type": "code",
   "execution_count": 5,
   "metadata": {},
   "outputs": [
    {
     "data": {
      "text/plain": [
       "selectionSort (generic function with 1 method)"
      ]
     },
     "execution_count": 5,
     "metadata": {},
     "output_type": "execute_result"
    }
   ],
   "source": [
    "# 선택정렬 O(n²)\n",
    "# 항상 최대값을 선택해서 끝으로 보내기 때문에 이미 정렬된 상태여도 성능은 똑같음.\n",
    "function selectionSort(x)\n",
    "    newx=copy(x)\n",
    "    for size in reverse(1:length(x))\n",
    "        max_i=1\n",
    "        for i in 1:size\n",
    "            if newx[i] > newx[max_i]\n",
    "                max_i = i\n",
    "            end\n",
    "        end\n",
    "        swap(newx, max_i, size)\n",
    "    end\n",
    "    return newx\n",
    "end"
   ]
  },
  {
   "cell_type": "code",
   "execution_count": 6,
   "metadata": {},
   "outputs": [
    {
     "name": "stdout",
     "output_type": "stream",
     "text": [
      "[12, 2, 20, 9, 3, 100, 11, 4, 17, 18, 6, 1, 8, 16, 7, 15, 5, 10, 14, 19, 13]\n",
      "[1, 2, 3, 4, 5, 6, 7, 8, 9, 10, 11, 12, 13, 14, 15, 16, 17, 18, 19, 20, 100]\n"
     ]
    }
   ],
   "source": [
    "seldat = selectionSort(dat)\n",
    "println(dat)\n",
    "println(seldat)"
   ]
  },
  {
   "cell_type": "code",
   "execution_count": 7,
   "metadata": {},
   "outputs": [
    {
     "data": {
      "text/plain": [
       "insertionSort (generic function with 1 method)"
      ]
     },
     "execution_count": 7,
     "metadata": {},
     "output_type": "execute_result"
    }
   ],
   "source": [
    "# 삽입정렬 O(n²)\n",
    "function insertionSort(x)\n",
    "    newx=copy(x)\n",
    "    for size in 2:length(x)\n",
    "        val = newx[size]\n",
    "        i = size\n",
    "        while i>1 && newx[i-1]>val\n",
    "            newx[i] = newx[i-1]\n",
    "            i-=1\n",
    "        end\n",
    "        newx[i] = val\n",
    "    end\n",
    "    return newx\n",
    "end"
   ]
  },
  {
   "cell_type": "code",
   "execution_count": 8,
   "metadata": {},
   "outputs": [
    {
     "name": "stdout",
     "output_type": "stream",
     "text": [
      "[12, 2, 20, 9, 3, 100, 11, 4, 17, 18, 6, 1, 8, 16, 7, 15, 5, 10, 14, 19, 13]\n",
      "[1, 2, 3, 4, 5, 6, 7, 8, 9, 10, 11, 12, 13, 14, 15, 16, 17, 18, 19, 20, 100]\n"
     ]
    }
   ],
   "source": [
    "insdat = insertionSort(dat)\n",
    "println(dat)\n",
    "println(insdat)"
   ]
  },
  {
   "cell_type": "code",
   "execution_count": 9,
   "metadata": {},
   "outputs": [
    {
     "data": {
      "text/plain": [
       "shellSort (generic function with 1 method)"
      ]
     },
     "execution_count": 9,
     "metadata": {},
     "output_type": "execute_result"
    }
   ],
   "source": [
    "# 셸 정렬 : 띄엄띄엄->조밀조밀하게 삽입정렬 반복\n",
    "# 이미정렬 O(n log n) \n",
    "# 최악의 경우 O(n²)\n",
    "# 일반적으로 O(n log² n)\n",
    "\n",
    "function gapInsertionSort(x, start, gap)\n",
    "    for target in start+gap:gap:length(x)\n",
    "        val = x[target]\n",
    "        i = target\n",
    "        while i>start\n",
    "            if x[i-gap] > val\n",
    "                x[i]=x[i-gap]\n",
    "            else\n",
    "                break\n",
    "            end\n",
    "            i -= gap\n",
    "        end\n",
    "        x[i]=val\n",
    "    end\n",
    "end\n",
    "\n",
    "function shellSort(xx)\n",
    "    x=copy(xx)\n",
    "    gap = length(x)÷2\n",
    "    while gap > 0\n",
    "        for start in 1:gap\n",
    "            gapInsertionSort(x, start, gap)\n",
    "        end\n",
    "        gap = gap÷2\n",
    "    end\n",
    "    return x\n",
    "end"
   ]
  },
  {
   "cell_type": "code",
   "execution_count": 10,
   "metadata": {},
   "outputs": [
    {
     "data": {
      "text/plain": [
       "10.0"
      ]
     },
     "execution_count": 10,
     "metadata": {},
     "output_type": "execute_result"
    }
   ],
   "source": [
    "(length(dat)÷2)*1.0"
   ]
  },
  {
   "cell_type": "code",
   "execution_count": 11,
   "metadata": {},
   "outputs": [
    {
     "name": "stdout",
     "output_type": "stream",
     "text": [
      "[12, 2, 20, 9, 3, 100, 11, 4, 17, 18, 6, 1, 8, 16, 7, 15, 5, 10, 14, 19, 13]\n",
      "[1, 2, 3, 4, 5, 6, 7, 8, 9, 10, 11, 12, 13, 14, 15, 16, 17, 18, 19, 20, 100]\n"
     ]
    }
   ],
   "source": [
    "shelldat = shellSort(dat)\n",
    "println(dat)\n",
    "println(shelldat)"
   ]
  },
  {
   "cell_type": "code",
   "execution_count": 14,
   "metadata": {},
   "outputs": [
    {
     "data": {
      "text/plain": [
       "merge! (generic function with 1 method)"
      ]
     },
     "execution_count": 14,
     "metadata": {},
     "output_type": "execute_result"
    }
   ],
   "source": [
    "# 병합 정렬 : 두 부분으로 쪼개는 것을 반복, 작은 값을 차례로 병합한다.\n",
    "# 두 부분을 쪼갤때 O(log n)\n",
    "# 병합할때 O(n)\n",
    "# 합쳐서 생각하면 O(n log n)\n",
    "function merge_sort!(A, p = 1, r = length(A))\n",
    "    if p < r\n",
    "        q = div(p+r, 2)\n",
    "        merge_sort!(A, p, q)\n",
    "        merge_sort!(A, q+1, r)\n",
    "        merge!(A, p, q, r)\n",
    "    end\n",
    "    return A\n",
    "end\n",
    "\n",
    "function merge!(A, p, q, r)\n",
    "    sentinel = typemax(eltype(A))\n",
    "    L = A[p:q]\n",
    "    R = A[(q+1):r]\n",
    "    push!(L, sentinel)\n",
    "    push!(R, sentinel)\n",
    "    i, j = 1, 1\n",
    "    for k in p:r\n",
    "      if L[i] <= R[j]\n",
    "          A[k] = L[i]\n",
    "          i += 1\n",
    "      else\n",
    "          A[k] = R[j]\n",
    "          j += 1\n",
    "      end\n",
    "    end\n",
    "end"
   ]
  },
  {
   "cell_type": "code",
   "execution_count": 19,
   "metadata": {},
   "outputs": [
    {
     "name": "stdout",
     "output_type": "stream",
     "text": [
      "[1, 2, 3, 4, 5, 6, 7, 8, 9, 10, 11, 12, 13, 14, 15, 16, 17, 18, 19, 20, 100]"
     ]
    },
    {
     "data": {
      "text/plain": [
       "0"
      ]
     },
     "execution_count": 19,
     "metadata": {},
     "output_type": "execute_result"
    }
   ],
   "source": [
    "merge_sort!(dat)\n",
    "print(dat)\n",
    "dat = [12,2,20,9,3,100,11,4,17,18,6,1,8,16,7,15,5,10,14,19,13]\n",
    "0"
   ]
  },
  {
   "cell_type": "raw",
   "metadata": {},
   "source": [
    "http://ejklike.github.io/2017/03/04/sorting-algorithms-with-python.html"
   ]
  }
 ],
 "metadata": {
  "kernelspec": {
   "display_name": "Julia 1.4.2",
   "language": "julia",
   "name": "julia-1.4"
  },
  "language_info": {
   "file_extension": ".jl",
   "mimetype": "application/julia",
   "name": "julia",
   "version": "1.4.2"
  }
 },
 "nbformat": 4,
 "nbformat_minor": 4
}
